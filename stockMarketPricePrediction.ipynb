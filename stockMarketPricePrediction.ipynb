{
 "cells": [
  {
   "cell_type": "code",
   "execution_count": 1,
   "metadata": {},
   "outputs": [
    {
     "name": "stderr",
     "output_type": "stream",
     "text": [
      "/Users/noelkonagai/anaconda/lib/python3.6/importlib/_bootstrap.py:205: RuntimeWarning: compiletime version 3.5 of module 'tensorflow.python.framework.fast_tensor_util' does not match runtime version 3.6\n",
      "  return f(*args, **kwds)\n"
     ]
    }
   ],
   "source": [
    "import tensorflow as tf\n",
    "import numpy as np\n",
    "import pandas as pd\n",
    "import matplotlib.pyplot as plt\n",
    "%matplotlib inline"
   ]
  },
  {
   "cell_type": "code",
   "execution_count": 2,
   "metadata": {},
   "outputs": [
    {
     "data": {
      "text/plain": [
       "<matplotlib.axes._subplots.AxesSubplot at 0x115da29b0>"
      ]
     },
     "execution_count": 2,
     "metadata": {},
     "output_type": "execute_result"
    },
    {
     "data": {
      "image/png": "[encoded data removed]",
      "text/plain": [
       "<matplotlib.figure.Figure at 0x106e07a20>"
      ]
     },
     "metadata": {},
     "output_type": "display_data"
    }
   ],
   "source": [
    "data = pd.read_csv('sp500.csv')\n",
    "data.plot()"
   ]
  },
  {
   "cell_type": "markdown",
   "metadata": {},
   "source": [
    "### Dividing the data into train and test"
   ]
  },
  {
   "cell_type": "code",
   "execution_count": 3,
   "metadata": {
    "collapsed": true
   },
   "outputs": [],
   "source": [
    "num_to_predict = 20\n",
    "\n",
    "train_data = data[-100:-num_to_predict]\n",
    "test_data = data[-num_to_predict:]"
   ]
  },
  {
   "cell_type": "markdown",
   "metadata": {},
   "source": [
    "### Scaling the data"
   ]
  },
  {
   "cell_type": "code",
   "execution_count": 4,
   "metadata": {
    "collapsed": true
   },
   "outputs": [],
   "source": [
    "from sklearn.preprocessing import MinMaxScaler\n",
    "\n",
    "scaler = MinMaxScaler()\n",
    "train_scaled = scaler.fit_transform(train_data)\n",
    "test_scaled = scaler.transform(test_data)"
   ]
  },
  {
   "cell_type": "code",
   "execution_count": 5,
   "metadata": {
    "collapsed": true
   },
   "outputs": [],
   "source": [
    "def next_batch(training_data,batch_size,steps):\n",
    "\n",
    "    rand_start = np.random.randint(0, len(train_data) - steps)\n",
    "    \n",
    "    y_batch = np.array(training_data[rand_start : rand_start + steps + 1]).reshape(1, steps + 1)\n",
    "    \n",
    "    return y_batch[:, :-1].reshape(-1, steps, 1), y_batch[:, 1:].reshape(-1, steps, 1)"
   ]
  },
  {
   "cell_type": "code",
   "execution_count": 6,
   "metadata": {
    "collapsed": true
   },
   "outputs": [],
   "source": [
    "num_inputs = 1\n",
    "num_time_steps = num_to_predict\n",
    "num_neurons = 50\n",
    "num_outputs = 1\n",
    "lr = 0.01\n",
    "num_inter_per_train = 2000\n",
    "batch_size = 1"
   ]
  },
  {
   "cell_type": "code",
   "execution_count": 7,
   "metadata": {
    "collapsed": true
   },
   "outputs": [],
   "source": [
    "X = tf.placeholder(tf.float32, shape = [None, num_time_steps, num_inputs])\n",
    "y = tf.placeholder(tf.float32, shape = [None, num_time_steps, num_inputs])"
   ]
  },
  {
   "cell_type": "code",
   "execution_count": 8,
   "metadata": {},
   "outputs": [],
   "source": [
    "lstm_cell_1 = tf.contrib.rnn.LSTMCell(num_units = num_neurons, activation=tf.nn.relu)\n",
    "lstm_cell_2 = tf.contrib.rnn.LSTMCell(num_units = num_neurons, activation=tf.nn.relu)\n",
    "multi_lstm_cells = tf.contrib.rnn.MultiRNNCell(cells=[lstm_cell_1, lstm_cell_2] , state_is_tuple=True)\n",
    "\n",
    "\n",
    "cell = tf.contrib.rnn.OutputProjectionWrapper(multi_lstm_cells, output_size = num_outputs)"
   ]
  },
  {
   "cell_type": "code",
   "execution_count": 9,
   "metadata": {
    "collapsed": true
   },
   "outputs": [],
   "source": [
    "outputs, states = tf.nn.dynamic_rnn(cell, X, dtype = tf.float32)"
   ]
  },
  {
   "cell_type": "code",
   "execution_count": 10,
   "metadata": {
    "collapsed": true
   },
   "outputs": [],
   "source": [
    "loss = tf.reduce_mean(tf.square(outputs - y))\n",
    "optimizer = tf.train.AdamOptimizer(learning_rate = lr)\n",
    "train = optimizer.minimize(loss)"
   ]
  },
  {
   "cell_type": "code",
   "execution_count": 11,
   "metadata": {
    "collapsed": true
   },
   "outputs": [],
   "source": [
    "init = tf.global_variables_initializer()\n",
    "gpu_options = tf.GPUOptions(per_process_gpu_memory_fraction = 0.90)\n",
    "saver = tf.train.Saver()"
   ]
  },
  {
   "cell_type": "code",
   "execution_count": 12,
   "metadata": {},
   "outputs": [
    {
     "name": "stdout",
     "output_type": "stream",
     "text": [
      "0 \tMSE  0.249462\n",
      "100 \tMSE  0.0167105\n",
      "200 \tMSE  0.0166318\n",
      "300 \tMSE  0.0143594\n",
      "400 \tMSE  0.037361\n",
      "500 \tMSE  0.0350291\n",
      "600 \tMSE  0.0103517\n",
      "700 \tMSE  0.00384293\n",
      "800 \tMSE  0.00618878\n",
      "900 \tMSE  0.00246098\n",
      "1000 \tMSE  0.00398398\n",
      "1100 \tMSE  0.00788179\n",
      "1200 \tMSE  0.00717944\n",
      "1300 \tMSE  0.00099428\n",
      "1400 \tMSE  0.00464632\n",
      "1500 \tMSE  0.0294872\n",
      "1600 \tMSE  0.00294483\n",
      "1700 \tMSE  0.00326762\n",
      "1800 \tMSE  0.00354408\n",
      "1900 \tMSE  0.0291371\n",
      "2000 \tMSE  0.0180348\n",
      "2100 \tMSE  0.0131445\n",
      "2200 \tMSE  0.00549566\n",
      "2300 \tMSE  0.00555113\n",
      "2400 \tMSE  0.00550447\n",
      "2500 \tMSE  0.00530902\n",
      "2600 \tMSE  0.00623962\n",
      "2700 \tMSE  0.0128209\n",
      "2800 \tMSE  0.00401998\n",
      "2900 \tMSE  0.00301708\n",
      "3000 \tMSE  0.00164692\n",
      "3100 \tMSE  0.00702843\n",
      "3200 \tMSE  0.0053463\n",
      "3300 \tMSE  0.00701722\n",
      "3400 \tMSE  0.00591177\n",
      "3500 \tMSE  0.00406766\n",
      "3600 \tMSE  0.00308935\n",
      "3700 \tMSE  0.00402663\n",
      "3800 \tMSE  0.00703097\n",
      "3900 \tMSE  0.00356853\n"
     ]
    }
   ],
   "source": [
    "with tf.Session(config = tf.ConfigProto(gpu_options = gpu_options)) as sess:\n",
    "\n",
    "    sess.run(init)\n",
    "    \n",
    "    for iteration in range(num_inter_per_train):\n",
    "        \n",
    "        X_batch, y_batch = next_batch(train_scaled, batch_size, num_time_steps)\n",
    "        sess.run(train, feed_dict = {X: X_batch, y: y_batch})\n",
    "        \n",
    "        if iteration % 100 == 0:\n",
    "            mse = loss.eval(feed_dict = {X: X_batch, y: y_batch})\n",
    "            print(iteration, \"\\tMSE \", mse) \n",
    "    \n",
    "    \n",
    "    # Save Model for Later\n",
    "    saver.save(sess, \"./stock_example_time_series\")"
   ]
  },
  {
   "cell_type": "code",
   "execution_count": 13,
   "metadata": {},
   "outputs": [
    {
     "name": "stdout",
     "output_type": "stream",
     "text": [
      "INFO:tensorflow:Restoring parameters from ./stock_example_time_series\n"
     ]
    }
   ],
   "source": [
    "with tf.Session() as sess:\n",
    "    \n",
    "    saver.restore(sess, \"./stock_example_time_series\")\n",
    "\n",
    "    train_seed = list(train_scaled[-num_to_predict:])\n",
    "    \n",
    "    for iteration in range(num_to_predict):\n",
    "        X_batch = np.array(train_seed[-num_time_steps:]).reshape(1, num_time_steps, 1)\n",
    "        y_pred = sess.run(outputs, feed_dict = {X: X_batch})\n",
    "        train_seed.append(y_pred[0, -1, 0])"
   ]
  },
  {
   "cell_type": "code",
   "execution_count": 14,
   "metadata": {
    "collapsed": true
   },
   "outputs": [],
   "source": [
    "results = scaler.inverse_transform(np.array(train_seed[num_to_predict:]).reshape(num_to_predict,1))"
   ]
  },
  {
   "cell_type": "code",
   "execution_count": 15,
   "metadata": {},
   "outputs": [
    {
     "name": "stderr",
     "output_type": "stream",
     "text": [
      "/Users/noelkonagai/anaconda/lib/python3.6/site-packages/ipykernel_launcher.py:2: SettingWithCopyWarning: \n",
      "A value is trying to be set on a copy of a slice from a DataFrame.\n",
      "Try using .loc[row_indexer,col_indexer] = value instead\n",
      "\n",
      "See the caveats in the documentation: http://pandas.pydata.org/pandas-docs/stable/indexing.html#indexing-view-versus-copy\n",
      "  \n"
     ]
    }
   ],
   "source": [
    "result_data = test_data[:num_to_predict]\n",
    "result_data['Generated'] = results"
   ]
  },
  {
   "cell_type": "code",
   "execution_count": 16,
   "metadata": {},
   "outputs": [
    {
     "data": {
      "text/plain": [
       "<matplotlib.axes._subplots.AxesSubplot at 0x11e9258d0>"
      ]
     },
     "execution_count": 16,
     "metadata": {},
     "output_type": "execute_result"
    },
    {
     "data": {
      "image/png": "[encoded data removed]",
      "text/plain": [
       "<matplotlib.figure.Figure at 0x115ac5518>"
      ]
     },
     "metadata": {},
     "output_type": "display_data"
    }
   ],
   "source": [
    "result_data.plot()"
   ]
  },
  {
   "cell_type": "code",
   "execution_count": null,
   "metadata": {
    "collapsed": true
   },
   "outputs": [],
   "source": []
  }
 ],
 "metadata": {
  "kernelspec": {
   "display_name": "Python 3",
   "language": "python",
   "name": "python3"
  },
  "language_info": {
   "codemirror_mode": {
    "name": "ipython",
    "version": 3
   },
   "file_extension": ".py",
   "mimetype": "text/x-python",
   "name": "python",
   "nbconvert_exporter": "python",
   "pygments_lexer": "ipython3",
   "version": "3.6.1"
  }
 },
 "nbformat": 4,
 "nbformat_minor": 2
}
